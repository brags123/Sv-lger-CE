{
 "cells": [
  {
   "cell_type": "markdown",
   "metadata": {},
   "source": [
    "# CE: \"Kanselering \"Da da da daaaa\" i Beethovens 5. bomb av en sang.\".\n",
    "### Av B-dog og Siggen."
   ]
  },
  {
   "cell_type": "code",
   "execution_count": null,
   "metadata": {},
   "outputs": [],
   "source": [
    "# Nødvendige importer\n",
    "from matplotlib import style\n",
    "style.use(\"default\") # Gir finere plot for .ipynb filer i VS Code\n",
    "import matplotlib.pyplot as plt\n",
    "import numpy as np\n",
    "from numba import jit\n",
    "from scipy.io import wavfile\n",
    "import warnings\n",
    "warnings.filterwarnings(\"ignore\") # Ignorerer advarsler fra numba"
   ]
  },
  {
   "cell_type": "markdown",
   "metadata": {},
   "source": [
    "### Wavelet analyse av lydsignalet:\n",
    "Planen er å kjøre en wavelet analyse på lydfilen av sangen og manuelt identifisere hvilke frekvenser som dukker opp når, for så å kunne lage mot frekvensen til hver bølge i lydsignalet. "
   ]
  },
  {
   "cell_type": "markdown",
   "metadata": {},
   "source": [
    "### Lydbølge:\n",
    "Vi begynner med å lage oss en test bølge med to forskjellig frekvenser i forskjellige tidspunkt. Det vi bruker her er 1 Hz frem til 5 sekunder og 0.5 Hz til 10 sekunder. Vi bruker en klassisk cosinus bølge:\n",
    "$$y(x)=A\\cos(\\omega x + \\phi)$$\n",
    "Vi ser her også at vi må faseforskyve den andre delen av bølgen slik at den henger pent sammen. Koden for dette ser slik ut:"
   ]
  },
  {
   "cell_type": "code",
   "execution_count": null,
   "metadata": {},
   "outputs": [],
   "source": [
    "#Definerer variabeler:\n",
    "omega = 2*np.pi #Vinkelfrekvens\n",
    "A = 1 #Amplitude\n",
    "phi = 0 #Forskyvningsledd\n",
    "x = np.linspace(0,10,1000) #tidsarray\n",
    "#Første bølge:\n",
    "y = A*np.cos(omega*x + phi)\n",
    "#Andre bølge:\n",
    "for i in range(500):\n",
    "    y[i+500] = A*np.cos(0.5*omega*x[i+500] + np.pi) #Annen frekvens etter indeks 500\n",
    "#plot:\n",
    "plt.Figure(figsize=(16,16)) #justerer plottstørrelsen\n",
    "plt.plot(x,y,label=\"lydbølge på 1 Hz\") #plotter bølgen\n",
    "plt.xlabel(\"t [s]\") #x-akse tittel\n",
    "plt.ylabel(\"y(x)\") #y-akse tittel\n",
    "plt.legend() #viser navn på graf"
   ]
  },
  {
   "cell_type": "markdown",
   "metadata": {},
   "source": [
    "Her ser vi da altså en lydbølge på 1 Hz frem til 5 sekunder og 0.5 Hz til 10 sekunder."
   ]
  },
  {
   "cell_type": "markdown",
   "metadata": {},
   "source": [
    "### Fourieranalyse:\n",
    "For å identifisere disse frekvensene fra lydbølgen starter vi med Fourieranalyse. Det er et matematisk verktøy som lar oss gå fra tid på x-aksen til frekvensaksen. Matematisk ser det slik ut:\n",
    "$$F(\\omega) = \\frac{1}{2\\pi}\\int_{-\\infty}^{\\infty}f(t)e^{i\\omega x}dt$$\n",
    "Vi bruker numpys Forier transformasjon siden vi vil gjøre dette numerisk. Det numpy gjør er kort forklart at den sjekker hvordan høyden går over tid på en bølge med en kjent samplingsfrekvens som vi har lært at skal være: \n",
    "$$f_s<2f$$\n",
    "Hvor fs er samplingsfrekvensen og f er frekvensen til signalet. Dette kalles Nyquist frekvensen og den må oppfylles for at fourieranalysen skal gi rett frekvenser og ikke missforstå signalet til å ha andre frekvenser enn det egentlig har."
   ]
  },
  {
   "cell_type": "code",
   "execution_count": null,
   "metadata": {},
   "outputs": [],
   "source": [
    "plt.Figure(figsize=(16,16))#justerer figurstørrelsen\n",
    "plt.plot(x,y,label=\"lydbølge på 1 Hz\") #plotter bølgen\n",
    "fs = 3 #hvor ofte prikkene i plottet skal komme\n",
    "plt.plot(x[::fs],y[::fs],\"o\",label=\"samplingspunkter\") #plotter prikker på grafen som skal være samplingen til numpy\n",
    "plt.xlabel(\"t [s]\") #x-akse tittel\n",
    "plt.ylabel(\"y(x)\") #y-akse tittel\n",
    "plt.legend() #viser graf navn"
   ]
  },
  {
   "cell_type": "markdown",
   "metadata": {},
   "source": [
    "Vi ser her hvordan prikkene på grafen indikerer hvordan numpys Fourier sampling skjer.\n",
    "\n",
    "Når vi bruker numpy lager vi en funksjon som vi kan bruke på et hvert signal. Vi plotter både signalet og Fourieranalysen av signalet med denne koden:"
   ]
  },
  {
   "cell_type": "code",
   "execution_count": null,
   "metadata": {},
   "outputs": [],
   "source": [
    "@jit\n",
    "def Fourier(data,fs):\n",
    "    ## Funksjon som tar inn et data signal (lydfil) og en samplingsfrekvens og gjør en forier analyse av signalet og plotter signalet i tids og frekvens-rommet\n",
    "    x_n  = data # Dataserien egentlig bytter bare navn\n",
    "    N = int(len(x_n)) # Antall punkter i signalet\n",
    "    \n",
    "    T = N / fs # tital tid for en tidsarray til forertransformasjonen\n",
    "    dt = 1 / fs # lengden på hvert tidssteg\n",
    "    t = dt*np.linspace(0, N-1, N) #lager tidssarray\n",
    " \n",
    "    \n",
    "    X_k = (1/N)*np.fft.fft(x_n) #kjører forier transformasjoenen på signalet\n",
    "    freq = np.fft.fftfreq(N, dt) #genrerer frekvens domenet til transformasjonen\n",
    "    #plotter signalet:\n",
    "    plt.subplot(2,1,1) #generer første subplot\n",
    "    plt.plot(t, x_n,label=\"Signal i tidssrommet\") #Plotter signalet i tidsrommet\n",
    "    plt.xlabel('t [s]') #x-akse tittel \n",
    "    plt.ylabel('x$_n$') #y-akse tittel\n",
    "    plt.legend() #Viser graf navn\n",
    "    #plotter Analysen\n",
    "    plt.subplot(2,1,2) #generer andre subplot\n",
    "    plt.plot(freq, np.abs(X_k),label=\"signalet i frekvensrommet\") #Plotter signalet i frekvensrommet\n",
    "    plt.xlabel('frekvens [Hz]') #x-akse tittel\n",
    "    plt.ylabel('X$_k$') #y-akse tittel\n",
    "    plt.legend() #viser grafnavn\n",
    "    plt.xlim([0, 5]) #begrenser hva som vises på x aksen\n",
    "    plt.show() #viser plot"
   ]
  },
  {
   "cell_type": "code",
   "execution_count": null,
   "metadata": {},
   "outputs": [],
   "source": [
    "fs = 100 #setter samplingsfrekvensen\n",
    "Fourier(y,fs) #bruker funksjonen på det genererte signalet"
   ]
  },
  {
   "cell_type": "markdown",
   "metadata": {},
   "source": [
    "Her ser vi signalet og analysen. Vi ser at vi klarer å idenifisere to frekvenser med de to toppene i plott nr to, men de er ikke så skarpe som vi helst skulle hadt de. Dette kan skylles at en Fourier analyse funker på et signal som består av hele signaler og ikke frekvenser som endrer seg over tid. Dette er grunnen til at vi går over til Waveletanalyse."
   ]
  },
  {
   "cell_type": "markdown",
   "metadata": {},
   "source": [
    "### Waveletanalyse:\n",
    "Denne formen av lydsampling er noe lik Fourier analyse \n",
    "$$\\gamma (\\omega _a,t)$$"
   ]
  },
  {
   "cell_type": "code",
   "execution_count": null,
   "metadata": {},
   "outputs": [],
   "source": [
    "@jit\n",
    "def psi(t,wa,tk,K,fs): # Likning 14.8 i Vistnes\n",
    "    ## Funksjon som generer Waveleten som skal multipliseres med signalet\n",
    "    # Disse tre er bare deler av en større funksjon som legges til tilslutt:\n",
    "    w = np.exp(-1j*wa*(t-tk)) \n",
    "    k = np.exp(-K**2)\n",
    "    gaus = np.exp(-(wa**2 * (t-tk)**2)/(2*K)**2)\n",
    "    C=0.798*wa/(fs*K) # Ligning 14.7 i Vistnes\n",
    "    return C*(w-k)*gaus #returnerer waveleten"
   ]
  },
  {
   "cell_type": "code",
   "execution_count": null,
   "metadata": {},
   "outputs": [],
   "source": [
    "@jit\n",
    "def gamma(xn,t,w,K,fs): # Likning 14.9 i Vistnes\n",
    "    ## Funksjon som kjører en versjon av alle frekvenser til alle tidspunkter og summerer produktet av signalet og waveleten og lager en matrise til verdiene\n",
    "    N = int(len(w)) #Henter lengden på frekvensarrayet\n",
    "    T = int(len(t)) #Henter lengden på tidsarrayet\n",
    "    gamma = np.zeros((N,T),dtype=np.complex_) #genererer en tom matrise\n",
    "    for i in range(N): #løper gjennom alle frekvenser\n",
    "        for ii in range(T): #løper gjennom alle tidspunkter\n",
    "            psi1 = psi(t,w[i],t[ii],K,fs) #genererer den gjeldene waveleten\n",
    "            gamma[i,ii] = np.sum(xn*np.conjugate(psi1)) #summerer opp produktet av signalet og waveleten\n",
    "    return gamma #returnerer matrisen"
   ]
  },
  {
   "cell_type": "code",
   "execution_count": null,
   "metadata": {},
   "outputs": [],
   "source": [
    "@jit\n",
    "def wavelet(data, t, w, K, fs):\n",
    "    ## Kjører gamma funksjonen og genererer et contour plot med absolutverdien av matrisen siden den blir kompleks\n",
    "    grid = gamma(data,t,w,K,fs) #genererer matrisen\n",
    "    plt.contourf(t,w,np.abs(grid)) # plotter griddet med frekvensene og tidspunktene\n",
    "    plt.colorbar() #viser hvilke verdier fargene har\n",
    "    plt.xlabel(\"tid [s]\") #x-akse tittel\n",
    "    plt.ylabel(\"frekvens [log10(2*pi*HZ)]\") #y-aksetittel\n",
    "    plt.show() #viser plottet\n",
    "    return grid # Returnerer gamma-griddet"
   ]
  },
  {
   "cell_type": "code",
   "execution_count": null,
   "metadata": {},
   "outputs": [],
   "source": [
    "K = 4 #setter K verdien\n",
    "N = 1000 # definerer hvor mange \n",
    "w = np.linspace(0,10,N) #Frekvensarray\n",
    "t = np.linspace(0,10,1000) #tidsarray\n",
    "fs = 100 #samplingsfrekvens\n",
    "wavelet_grid = wavelet(y, t, w, K, fs) # kjører plottefunksjonen"
   ]
  },
  {
   "cell_type": "markdown",
   "metadata": {},
   "source": [
    "# FFT av DDD"
   ]
  },
  {
   "cell_type": "code",
   "execution_count": null,
   "metadata": {},
   "outputs": [],
   "source": [
    "@jit\n",
    "def readWav(filename):\n",
    "    ## Leser lydfilen med navnet filename, og returnerer tidpunkter t, signal x_n og samplingsfrekvens fs\n",
    "    fs, data = wavfile.read(filename) # Henter samplingsfrekvens og signaldata fra lydfilen\n",
    "    x_n = data[:,0] # Henter ut relevant del av signalet\n",
    "    N = len(x_n) # lengden på lyd signalet\n",
    "    T = N/fs #lengden på tidsarrayen\n",
    "    t = np.linspace(0, T, N) # Lager en array med tidpunkter\n",
    "    return t, x_n, fs # returnerer tidsarrayet, lydsignalet og samplingsfrekvensen"
   ]
  },
  {
   "cell_type": "code",
   "execution_count": null,
   "metadata": {},
   "outputs": [],
   "source": [
    "@jit\n",
    "def fourier(t, x_n, N):\n",
    "    ## Gjør en Fourier-analyse på signal x_n med tidpunkter t. N er lengden vi ønsker til arrayet X_k fra fft.\n",
    "    ## Returnerer frekvenser freq og utslag X_k fra fft.\n",
    "    X_k = 1/N * np.fft.fft(x_n, n=N) # Gjør en fft på x_n. Deler på N for å korrigere størrelsen på utslagene.\n",
    "    dt = t[1] - t[0] #lengden på hvert tidssteg\n",
    "    freq = np.fft.fftfreq(N, dt) # Finner frekvensområdet til spekteret fra analysen.\n",
    "    return freq, X_k #returnerer frekvensdomenet og fourier transformasjonen"
   ]
  },
  {
   "cell_type": "code",
   "execution_count": null,
   "metadata": {},
   "outputs": [],
   "source": [
    "lydfil_lu = \"liteUtdrag.wav\" # Lydfilen med et 30s utdrag av symfonien\n",
    "t_lu, x_n_lu, fs_lu = readWav(lydfil_lu) # Henter data fra lydfilen\n",
    "N_lu = len(x_n_lu) # Finner lengden til signalet (antall datapunkter)\n",
    "freq_lu, X_k_lu = fourier(t_lu, x_n_lu, N_lu) # Gjør en Fourieranalyse på utdraget"
   ]
  },
  {
   "cell_type": "code",
   "execution_count": null,
   "metadata": {},
   "outputs": [],
   "source": [
    "lydfil_ddd = \"DDD.wav\" # Lydfilen med kun \"DUN DUN DUN DUUUN\"-delen av symfonien.\n",
    "t_ddd, x_n_ddd, fs_ddd = readWav(lydfil_ddd) # Henter data fra lydfilen.\n",
    "freq_ddd, X_k_ddd = fourier(t_ddd, x_n_ddd, N_lu) # Gjør en Fourieranalyse på DDD. Bruker N_lu for å få lik lengde på X_k_ddd og X_k_lu"
   ]
  },
  {
   "cell_type": "code",
   "execution_count": null,
   "metadata": {},
   "outputs": [],
   "source": [
    "## Plotter lydsignalet fra DDD\n",
    "plt.title(f\"Plot av lydfilen {lydfil_ddd}\")\n",
    "plt.xlabel(\"$t$ [s]\")\n",
    "plt.ylabel(\"$A$\")\n",
    "plt.plot(t_ddd, x_n_ddd)"
   ]
  },
  {
   "cell_type": "code",
   "execution_count": null,
   "metadata": {},
   "outputs": [],
   "source": [
    "## Plotter frekvensspekteret til DDD\n",
    "plt.xlim(0, fs_ddd/2) # Største mulige frekvens må være halvparten av samplingsfrekvensen (Nyquist)\n",
    "plt.title(f\"Fouriertransformasjon av {lydfil_ddd}\")\n",
    "plt.xlabel(\"$f$ [Hz]\")\n",
    "plt.ylabel(\"A\")\n",
    "plt.plot(freq_ddd, X_k_ddd, label=f\"DFT av {lydfil_ddd}\")\n",
    "plt.legend()"
   ]
  },
  {
   "cell_type": "code",
   "execution_count": null,
   "metadata": {},
   "outputs": [],
   "source": [
    "## Zoomer inn på plottet av frekvensspekteret til DDD til relevante verdier\n",
    "plt.xlim(0, 2000)\n",
    "plt.title(f\"Fouriertransformasjon av {lydfil_ddd}\")\n",
    "plt.xlabel(\"$f$ [Hz]\")\n",
    "plt.ylabel(\"A\")\n",
    "plt.plot(freq_ddd, X_k_ddd, label=f\"DFT av {lydfil_ddd}\")"
   ]
  },
  {
   "cell_type": "code",
   "execution_count": null,
   "metadata": {},
   "outputs": [],
   "source": [
    "## Plotter lydsignalet fra utdraget på 30s\n",
    "plt.plot(t_lu, x_n_lu)"
   ]
  },
  {
   "cell_type": "code",
   "execution_count": null,
   "metadata": {},
   "outputs": [],
   "source": [
    "## Plotter frekvensspekteret til utdraget\n",
    "plt.xlim(0, 1000)\n",
    "plt.title(f\"Fouriertransformasjon av {lydfil_lu}\")\n",
    "plt.xlabel(\"$f$ [Hz]\")\n",
    "plt.ylabel(\"A\")\n",
    "plt.plot(freq_lu, X_k_lu, label=f\"DFT av {lydfil_lu}\")"
   ]
  },
  {
   "cell_type": "code",
   "execution_count": null,
   "metadata": {},
   "outputs": [],
   "source": [
    "X_k_ny = X_k_lu - X_k_ddd # Fjerner frekvensene til DDD fra utdraget\n",
    "\n",
    "## Plotter frekvensspekteret til DDD, utdraget, og differansen\n",
    "plt.xlim(0,1000)\n",
    "plt.plot(freq_ddd, X_k_ddd, \"r:\")\n",
    "plt.plot(freq_lu, X_k_lu, \"b:\")\n",
    "plt.plot(freq_lu, X_k_ny, \"g\")"
   ]
  },
  {
   "cell_type": "code",
   "execution_count": null,
   "metadata": {},
   "outputs": [],
   "source": [
    "x_n_ny = np.fft.ifft(X_k_ny) # Invers Fouriertransformasjon, for å få tilbake lydsignalet uten DDD\n",
    "\n",
    "## Plotter det nye lydsignalet\n",
    "plt.plot(t_lu, x_n_ny)"
   ]
  },
  {
   "cell_type": "code",
   "execution_count": null,
   "metadata": {},
   "outputs": [],
   "source": [
    "wavfile.write(\"bby.wav\", fs_lu, np.real(x_n_ny)) # Skriver lydsignalet ut til ny lydfil"
   ]
  },
  {
   "cell_type": "markdown",
   "metadata": {},
   "source": [
    "# Wavelet av DDD"
   ]
  },
  {
   "cell_type": "code",
   "execution_count": null,
   "metadata": {},
   "outputs": [],
   "source": [
    "@jit\n",
    "def sliced_wavelet(t, x_n, freq, jump, max_freq_index):\n",
    "    ## Lager sliced versjoner av t, x_n og frekvensene for at wavelet() skal kjøre raskere\n",
    "    t_sliced = t[::jump]\n",
    "    x_n_sliced = x_n[::jump]\n",
    "    freq_sliced = freq[0:max_freq_index:jump]\n",
    "    return t_sliced, x_n_sliced, freq_sliced # returnerer sliced arrayer"
   ]
  },
  {
   "cell_type": "code",
   "execution_count": null,
   "metadata": {},
   "outputs": [],
   "source": [
    "K = 20 #setter K verdien\n",
    "slice_jump = 100\n",
    "max_freq_index = 40000\n",
    "t_ddd_sliced, x_n_ddd_sliced, freq_ddd_sliced = sliced_wavelet(t_ddd, x_n_ddd, freq_ddd, slice_jump, max_freq_index)\n",
    "\n",
    "print(len(t_ddd_sliced))\n",
    "print(len(x_n_ddd_sliced))\n",
    "print(len(freq_ddd_sliced))"
   ]
  },
  {
   "cell_type": "code",
   "execution_count": null,
   "metadata": {},
   "outputs": [],
   "source": [
    "grid_ddd = wavelet(x_n_ddd_sliced, t_ddd_sliced, freq_ddd_sliced, K, fs_ddd)"
   ]
  },
  {
   "cell_type": "code",
   "execution_count": null,
   "metadata": {},
   "outputs": [],
   "source": [
    "t_lu_sliced, x_n_lu_sliced, freq_lu_sliced = sliced_wavelet(t_lu, x_n_lu, freq_lu, slice_jump, max_freq_index)\n"
   ]
  },
  {
   "cell_type": "code",
   "execution_count": null,
   "metadata": {},
   "outputs": [],
   "source": [
    "grid_lu = wavelet(x_n_lu_sliced, t_lu_sliced, freq_lu_sliced, K, fs_lu)"
   ]
  },
  {
   "cell_type": "code",
   "execution_count": null,
   "metadata": {},
   "outputs": [],
   "source": [
    "def analyze_wavelet(grid_big, grid_small, tol):\n",
    "    Nw_big, Nt_big = np.shape(grid_big)\n",
    "    Nw_small, Nt_small = np.shape(grid_small)\n",
    "    N = Nt_big + 2 - Nt_small # Antall startverdier vi ser på for t\n",
    "    indices = np.array([])\n",
    "    for i in range(Nt_big-Nt_small+1):\n",
    "        grid_i = grid_big[:, i:i+Nt_small]\n",
    "        if np.allclose(grid_small, grid_i, atol=tol):\n",
    "            indices = np.append(indices, i)\n",
    "    return indices"
   ]
  },
  {
   "cell_type": "code",
   "execution_count": null,
   "metadata": {},
   "outputs": [],
   "source": [
    "indices = analyze_wavelet(grid_lu, grid_ddd, 5)\n",
    "indices = indices * 100\n",
    "Nw_small, Nt_small = np.shape(grid_ddd)\n",
    "Nt_small = Nt_small * 100\n",
    "x_n_new = np.copy(x_n_lu)"
   ]
  },
  {
   "cell_type": "code",
   "execution_count": null,
   "metadata": {},
   "outputs": [],
   "source": [
    "print(indices)\n",
    "for index in indices:\n",
    "    index = int(index)\n",
    "    x_n_new[index:index+Nt_small] = np.zeros(Nt_small)"
   ]
  },
  {
   "cell_type": "code",
   "execution_count": null,
   "metadata": {},
   "outputs": [],
   "source": [
    "wavfile.write(\"Woopwoop.wav\", fs_lu, np.real(x_n_new))"
   ]
  },
  {
   "cell_type": "markdown",
   "metadata": {},
   "source": [
    "# Waveletanalyse å"
   ]
  }
 ],
 "metadata": {
  "interpreter": {
   "hash": "4e7d75e00074757e14e7fd2eb968ea4527f9951d2d1c5cfa52dc31e4b09b3c8a"
  },
  "kernelspec": {
   "display_name": "Python 3",
   "language": "python",
   "name": "python3"
  },
  "language_info": {
   "codemirror_mode": {
    "name": "ipython",
    "version": 3
   },
   "file_extension": ".py",
   "mimetype": "text/x-python",
   "name": "python",
   "nbconvert_exporter": "python",
   "pygments_lexer": "ipython3",
   "version": "3.8.8"
  }
 },
 "nbformat": 4,
 "nbformat_minor": 2
}
